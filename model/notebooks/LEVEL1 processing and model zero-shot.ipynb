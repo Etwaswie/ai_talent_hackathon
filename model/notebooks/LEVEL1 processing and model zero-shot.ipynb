{
 "cells": [
  {
   "cell_type": "markdown",
   "id": "b23abdda",
   "metadata": {},
   "source": [
    "# Импорт библиотек"
   ]
  },
  {
   "cell_type": "code",
   "execution_count": 1,
   "id": "4c31c590",
   "metadata": {},
   "outputs": [],
   "source": [
    "import pandas as pd\n",
    "import numpy as np\n",
    "\n",
    "from transformers import AutoTokenizer, AutoModelForSequenceClassification\n",
    "import torch, string, random\n",
    "\n",
    "from torch.utils.data import Dataset, DataLoader\n",
    "\n",
    "from torchinfo import summary"
   ]
  },
  {
   "cell_type": "markdown",
   "id": "3af5479e",
   "metadata": {},
   "source": [
    "# Конфигурация"
   ]
  },
  {
   "cell_type": "code",
   "execution_count": 2,
   "id": "8b8ee61d",
   "metadata": {},
   "outputs": [],
   "source": [
    "RANDOM_SEED = 42\n",
    "BATCH_SIZE = 1\n",
    "\n",
    "random.seed(RANDOM_SEED)\n",
    "np.random.seed(RANDOM_SEED)\n",
    "torch.manual_seed(RANDOM_SEED)\n",
    "torch.random.manual_seed(RANDOM_SEED)\n",
    "torch.cuda.random.manual_seed_all(RANDOM_SEED)\n",
    "device = torch.device('cuda') if torch.cuda.is_available() else torch.device('cpu')"
   ]
  },
  {
   "cell_type": "code",
   "execution_count": 3,
   "id": "de845577",
   "metadata": {},
   "outputs": [
    {
     "data": {
      "text/plain": [
       "device(type='cuda')"
      ]
     },
     "execution_count": 3,
     "metadata": {},
     "output_type": "execute_result"
    }
   ],
   "source": [
    "device"
   ]
  },
  {
   "cell_type": "markdown",
   "id": "7257ad8a",
   "metadata": {},
   "source": [
    "# Загрузка данных"
   ]
  },
  {
   "cell_type": "code",
   "execution_count": 4,
   "id": "4f151fc1",
   "metadata": {},
   "outputs": [],
   "source": [
    "data = pd.read_csv('../data/all_reviews.csv')"
   ]
  },
  {
   "cell_type": "code",
   "execution_count": 5,
   "id": "aac2d675",
   "metadata": {},
   "outputs": [
    {
     "data": {
      "text/html": [
       "<div>\n",
       "<style scoped>\n",
       "    .dataframe tbody tr th:only-of-type {\n",
       "        vertical-align: middle;\n",
       "    }\n",
       "\n",
       "    .dataframe tbody tr th {\n",
       "        vertical-align: top;\n",
       "    }\n",
       "\n",
       "    .dataframe thead th {\n",
       "        text-align: right;\n",
       "    }\n",
       "</style>\n",
       "<table border=\"1\" class=\"dataframe\">\n",
       "  <thead>\n",
       "    <tr style=\"text-align: right;\">\n",
       "      <th></th>\n",
       "      <th>store_name</th>\n",
       "      <th>store_type</th>\n",
       "      <th>store_address</th>\n",
       "      <th>store_district</th>\n",
       "      <th>text</th>\n",
       "      <th>stars</th>\n",
       "      <th>date</th>\n",
       "    </tr>\n",
       "  </thead>\n",
       "  <tbody>\n",
       "    <tr>\n",
       "      <th>0</th>\n",
       "      <td>Дикси</td>\n",
       "      <td>Супермаркет</td>\n",
       "      <td>Суворовский проспект, 36</td>\n",
       "      <td>Смольнинское</td>\n",
       "      <td>\"Дикси\", как \"Дикси\" Постоянно нужно следить, ...</td>\n",
       "      <td>3.0</td>\n",
       "      <td>2023-03-22</td>\n",
       "    </tr>\n",
       "    <tr>\n",
       "      <th>1</th>\n",
       "      <td>Дикси</td>\n",
       "      <td>Супермаркет</td>\n",
       "      <td>Суворовский проспект, 36</td>\n",
       "      <td>Смольнинское</td>\n",
       "      <td>\"Дикси\", как \"Дикси\" Постоянно нужно следить, ...</td>\n",
       "      <td>3.0</td>\n",
       "      <td>2023-03-22</td>\n",
       "    </tr>\n",
       "    <tr>\n",
       "      <th>2</th>\n",
       "      <td>Пятерочка</td>\n",
       "      <td>Супермаркет</td>\n",
       "      <td>Лиговский проспект, 107</td>\n",
       "      <td>Владимирский</td>\n",
       "      <td>\"Пятёрочка\" выручает, вернее и не скажешь:)</td>\n",
       "      <td>5.0</td>\n",
       "      <td>2023-05-10</td>\n",
       "    </tr>\n",
       "    <tr>\n",
       "      <th>3</th>\n",
       "      <td>Дикси</td>\n",
       "      <td>Супермаркет</td>\n",
       "      <td>Большая Московская, 5</td>\n",
       "      <td>Владимирский</td>\n",
       "      <td>,где суповые наборы,где овощные смеси, ?в холо...</td>\n",
       "      <td>2.0</td>\n",
       "      <td>2022-07-15</td>\n",
       "    </tr>\n",
       "    <tr>\n",
       "      <th>4</th>\n",
       "      <td>Дикси</td>\n",
       "      <td>Супермаркет</td>\n",
       "      <td>Чайковского, 55</td>\n",
       "      <td>Литейный</td>\n",
       "      <td>«3» только после того, как стал свидетелем диа...</td>\n",
       "      <td>3.0</td>\n",
       "      <td>2022-05-21</td>\n",
       "    </tr>\n",
       "  </tbody>\n",
       "</table>\n",
       "</div>"
      ],
      "text/plain": [
       "  store_name   store_type             store_address store_district  \\\n",
       "0      Дикси  Супермаркет  Суворовский проспект, 36   Смольнинское   \n",
       "1      Дикси  Супермаркет  Суворовский проспект, 36   Смольнинское   \n",
       "2  Пятерочка  Супермаркет   Лиговский проспект, 107   Владимирский   \n",
       "3      Дикси  Супермаркет     Большая Московская, 5   Владимирский   \n",
       "4      Дикси  Супермаркет           Чайковского, 55       Литейный   \n",
       "\n",
       "                                                text  stars        date  \n",
       "0  \"Дикси\", как \"Дикси\" Постоянно нужно следить, ...    3.0  2023-03-22  \n",
       "1  \"Дикси\", как \"Дикси\" Постоянно нужно следить, ...    3.0  2023-03-22  \n",
       "2        \"Пятёрочка\" выручает, вернее и не скажешь:)    5.0  2023-05-10  \n",
       "3  ,где суповые наборы,где овощные смеси, ?в холо...    2.0  2022-07-15  \n",
       "4  «3» только после того, как стал свидетелем диа...    3.0  2022-05-21  "
      ]
     },
     "execution_count": 5,
     "metadata": {},
     "output_type": "execute_result"
    }
   ],
   "source": [
    "data.head()"
   ]
  },
  {
   "cell_type": "code",
   "execution_count": 6,
   "id": "626bffa5",
   "metadata": {},
   "outputs": [
    {
     "name": "stdout",
     "output_type": "stream",
     "text": [
      "<class 'pandas.core.frame.DataFrame'>\n",
      "RangeIndex: 5576 entries, 0 to 5575\n",
      "Data columns (total 7 columns):\n",
      " #   Column          Non-Null Count  Dtype  \n",
      "---  ------          --------------  -----  \n",
      " 0   store_name      5576 non-null   object \n",
      " 1   store_type      5576 non-null   object \n",
      " 2   store_address   5576 non-null   object \n",
      " 3   store_district  5576 non-null   object \n",
      " 4   text            5576 non-null   object \n",
      " 5   stars           5574 non-null   float64\n",
      " 6   date            5576 non-null   object \n",
      "dtypes: float64(1), object(6)\n",
      "memory usage: 305.1+ KB\n"
     ]
    }
   ],
   "source": [
    "data.info()"
   ]
  },
  {
   "cell_type": "markdown",
   "id": "5b7cca44",
   "metadata": {},
   "source": [
    "# Загрузка модели"
   ]
  },
  {
   "cell_type": "code",
   "execution_count": 7,
   "id": "89256a57",
   "metadata": {},
   "outputs": [],
   "source": [
    "tokenizer = AutoTokenizer.from_pretrained(\"DAMO-NLP-SG/zero-shot-classify-SSTuning-XLM-R\")\n",
    "model = AutoModelForSequenceClassification.from_pretrained(\"DAMO-NLP-SG/zero-shot-classify-SSTuning-XLM-R\")"
   ]
  },
  {
   "cell_type": "code",
   "execution_count": 8,
   "id": "77da35e2",
   "metadata": {},
   "outputs": [],
   "source": [
    "for p in model.parameters():\n",
    "    p.requires_grad = False"
   ]
  },
  {
   "cell_type": "code",
   "execution_count": 9,
   "id": "dc4ee2fb",
   "metadata": {},
   "outputs": [
    {
     "data": {
      "text/plain": [
       "=====================================================================================\n",
       "Layer (type:depth-idx)                                       Param #\n",
       "=====================================================================================\n",
       "XLMRobertaForSequenceClassification                          --\n",
       "├─XLMRobertaModel: 1-1                                       --\n",
       "│    └─XLMRobertaEmbeddings: 2-1                             --\n",
       "│    │    └─Embedding: 3-1                                   (192,001,536)\n",
       "│    │    └─Embedding: 3-2                                   (394,752)\n",
       "│    │    └─Embedding: 3-3                                   (768)\n",
       "│    │    └─LayerNorm: 3-4                                   (1,536)\n",
       "│    │    └─Dropout: 3-5                                     --\n",
       "│    └─XLMRobertaEncoder: 2-2                                --\n",
       "│    │    └─ModuleList: 3-6                                  (85,054,464)\n",
       "├─XLMRobertaClassificationHead: 1-2                          --\n",
       "│    └─Linear: 2-3                                           (590,592)\n",
       "│    └─Dropout: 2-4                                          --\n",
       "│    └─Linear: 2-5                                           (15,380)\n",
       "=====================================================================================\n",
       "Total params: 278,059,028\n",
       "Trainable params: 0\n",
       "Non-trainable params: 278,059,028\n",
       "====================================================================================="
      ]
     },
     "execution_count": 9,
     "metadata": {},
     "output_type": "execute_result"
    }
   ],
   "source": [
    "summary(model)"
   ]
  },
  {
   "cell_type": "code",
   "execution_count": 10,
   "id": "b4f8056e",
   "metadata": {},
   "outputs": [],
   "source": [
    "model.to(device).eval();"
   ]
  },
  {
   "cell_type": "markdown",
   "id": "0f0992c7",
   "metadata": {},
   "source": [
    "# Обработка данных"
   ]
  },
  {
   "cell_type": "code",
   "execution_count": 11,
   "id": "7d00cdbd",
   "metadata": {},
   "outputs": [],
   "source": [
    "list_target = [\"текст про персонал магазина\",\n",
    "               \"текст про цены товаров\",\n",
    "               \"текст про ассортимент товаров\",\n",
    "               \"текст про качество товаров\",\n",
    "               \"текст про чистоту магазина\",\n",
    "               \"текст про расположение магазина\"]"
   ]
  },
  {
   "cell_type": "code",
   "execution_count": 12,
   "id": "b0abcc6f",
   "metadata": {},
   "outputs": [
    {
     "data": {
      "text/plain": [
       "{0: 'текст про персонал магазина',\n",
       " 1: 'текст про цены товаров',\n",
       " 2: 'текст про ассортимент товаров',\n",
       " 3: 'текст про качество товаров',\n",
       " 4: 'текст про чистоту магазина',\n",
       " 5: 'текст про расположение магазина'}"
      ]
     },
     "execution_count": 12,
     "metadata": {},
     "output_type": "execute_result"
    }
   ],
   "source": [
    "dict_target = dict(zip(range(len(list_target)),list_target))\n",
    "dict_target"
   ]
  },
  {
   "cell_type": "code",
   "execution_count": 13,
   "id": "a7e91578",
   "metadata": {},
   "outputs": [],
   "source": [
    "class ReviewDataset(Dataset):\n",
    "\n",
    "    def __init__(self, data, list_target, tokenizer, device):\n",
    "        self.data = data['text'].values\n",
    "        self.tokenizer = tokenizer\n",
    "        self.length = data.shape[0]\n",
    "        self.device = device\n",
    "        self.list_target = list_target\n",
    "        self.s_option = self.preprocess_target(self.list_target)\n",
    "\n",
    "    def preprocess_target(self, list_target):\n",
    "        list_ABC = [x for x in string.ascii_uppercase]\n",
    "        list_label = [x + '.' if x[-1] != '.' else x for x in list_target]\n",
    "        list_label_pad = list_label + [tokenizer.pad_token]* (20 - len(list_label))\n",
    "        s_option = ' '.join(['('+list_ABC[i]+') '+list_label_pad[i] for i in range(len(list_label_pad))])\n",
    "        return s_option\n",
    "    \n",
    "    def __len__(self):\n",
    "        return self.length\n",
    "\n",
    "    def __getitem__(self, index): \n",
    "        return self.s_option + ' ' + self.tokenizer.sep_token + ' ' + self.data[index]\n",
    "    \n",
    "    def collate_fn(self, batch):\n",
    "        input_ids = tokenizer(text=batch,\n",
    "                              truncation=True,\n",
    "                              padding=True,\n",
    "                              max_length=512,\n",
    "                              return_tensors='pt')['input_ids']\n",
    "        return input_ids"
   ]
  },
  {
   "cell_type": "code",
   "execution_count": 14,
   "id": "b81d693d",
   "metadata": {},
   "outputs": [],
   "source": [
    "dataset = ReviewDataset(data=data,\n",
    "                        list_target=list_target,\n",
    "                        tokenizer=tokenizer,\n",
    "                        device=device)\n",
    "loader = DataLoader(dataset=dataset,\n",
    "                    collate_fn=dataset.collate_fn,\n",
    "                    batch_size=BATCH_SIZE)"
   ]
  },
  {
   "cell_type": "markdown",
   "id": "54a18f50",
   "metadata": {},
   "source": [
    "# Инференс"
   ]
  },
  {
   "cell_type": "code",
   "execution_count": 15,
   "id": "cab00d99",
   "metadata": {},
   "outputs": [
    {
     "name": "stdout",
     "output_type": "stream",
     "text": [
      "CPU times: total: 1min 54s\n",
      "Wall time: 2min 10s\n"
     ]
    }
   ],
   "source": [
    "%%time\n",
    "test_pred = []\n",
    "\n",
    "with torch.no_grad():\n",
    "    for i, input_ids in enumerate(loader): \n",
    "        input_ids = input_ids.to(device)\n",
    "        logits = model(input_ids=input_ids).logits[:,:len(list_target)]\n",
    "        prediction = torch.argmax(logits, dim=-1)\n",
    "        test_pred += prediction.tolist()"
   ]
  },
  {
   "cell_type": "code",
   "execution_count": 16,
   "id": "c90ab074",
   "metadata": {},
   "outputs": [
    {
     "name": "stdout",
     "output_type": "stream",
     "text": [
      "Fri Sep  8 14:09:21 2023       \n",
      "+-----------------------------------------------------------------------------+\n",
      "| NVIDIA-SMI 527.56       Driver Version: 527.56       CUDA Version: 12.0     |\n",
      "|-------------------------------+----------------------+----------------------+\n",
      "| GPU  Name            TCC/WDDM | Bus-Id        Disp.A | Volatile Uncorr. ECC |\n",
      "| Fan  Temp  Perf  Pwr:Usage/Cap|         Memory-Usage | GPU-Util  Compute M. |\n",
      "|                               |                      |               MIG M. |\n",
      "|===============================+======================+======================|\n",
      "|   0  NVIDIA GeForce ... WDDM  | 00000000:01:00.0 Off |                  N/A |\n",
      "| N/A   61C    P0    47W / 115W |   1892MiB /  8192MiB |     39%      Default |\n",
      "|                               |                      |                  N/A |\n",
      "+-------------------------------+----------------------+----------------------+\n",
      "                                                                               \n",
      "+-----------------------------------------------------------------------------+\n",
      "| Processes:                                                                  |\n",
      "|  GPU   GI   CI        PID   Type   Process name                  GPU Memory |\n",
      "|        ID   ID                                                   Usage      |\n",
      "|=============================================================================|\n",
      "|    0   N/A  N/A     37232      C   ...conda\\envs\\NIR\\python.exe    N/A      |\n",
      "+-----------------------------------------------------------------------------+\n"
     ]
    }
   ],
   "source": [
    "!nvidia-smi"
   ]
  },
  {
   "cell_type": "code",
   "execution_count": 17,
   "id": "7677c49d",
   "metadata": {},
   "outputs": [],
   "source": [
    "test_answer = list(map(lambda x: dict_target[x], test_pred))"
   ]
  },
  {
   "cell_type": "code",
   "execution_count": 18,
   "id": "2a641656",
   "metadata": {},
   "outputs": [],
   "source": [
    "data['Parameter'] = test_answer"
   ]
  },
  {
   "cell_type": "code",
   "execution_count": 19,
   "id": "9ede02c9",
   "metadata": {},
   "outputs": [
    {
     "data": {
      "text/html": [
       "<div>\n",
       "<style scoped>\n",
       "    .dataframe tbody tr th:only-of-type {\n",
       "        vertical-align: middle;\n",
       "    }\n",
       "\n",
       "    .dataframe tbody tr th {\n",
       "        vertical-align: top;\n",
       "    }\n",
       "\n",
       "    .dataframe thead th {\n",
       "        text-align: right;\n",
       "    }\n",
       "</style>\n",
       "<table border=\"1\" class=\"dataframe\">\n",
       "  <thead>\n",
       "    <tr style=\"text-align: right;\">\n",
       "      <th></th>\n",
       "      <th>store_name</th>\n",
       "      <th>store_type</th>\n",
       "      <th>store_address</th>\n",
       "      <th>store_district</th>\n",
       "      <th>text</th>\n",
       "      <th>stars</th>\n",
       "      <th>date</th>\n",
       "      <th>Parameter</th>\n",
       "    </tr>\n",
       "  </thead>\n",
       "  <tbody>\n",
       "    <tr>\n",
       "      <th>0</th>\n",
       "      <td>Дикси</td>\n",
       "      <td>Супермаркет</td>\n",
       "      <td>Суворовский проспект, 36</td>\n",
       "      <td>Смольнинское</td>\n",
       "      <td>\"Дикси\", как \"Дикси\" Постоянно нужно следить, ...</td>\n",
       "      <td>3.0</td>\n",
       "      <td>2023-03-22</td>\n",
       "      <td>текст про качество товаров</td>\n",
       "    </tr>\n",
       "    <tr>\n",
       "      <th>1</th>\n",
       "      <td>Дикси</td>\n",
       "      <td>Супермаркет</td>\n",
       "      <td>Суворовский проспект, 36</td>\n",
       "      <td>Смольнинское</td>\n",
       "      <td>\"Дикси\", как \"Дикси\" Постоянно нужно следить, ...</td>\n",
       "      <td>3.0</td>\n",
       "      <td>2023-03-22</td>\n",
       "      <td>текст про качество товаров</td>\n",
       "    </tr>\n",
       "    <tr>\n",
       "      <th>2</th>\n",
       "      <td>Пятерочка</td>\n",
       "      <td>Супермаркет</td>\n",
       "      <td>Лиговский проспект, 107</td>\n",
       "      <td>Владимирский</td>\n",
       "      <td>\"Пятёрочка\" выручает, вернее и не скажешь:)</td>\n",
       "      <td>5.0</td>\n",
       "      <td>2023-05-10</td>\n",
       "      <td>текст про чистоту магазина</td>\n",
       "    </tr>\n",
       "    <tr>\n",
       "      <th>3</th>\n",
       "      <td>Дикси</td>\n",
       "      <td>Супермаркет</td>\n",
       "      <td>Большая Московская, 5</td>\n",
       "      <td>Владимирский</td>\n",
       "      <td>,где суповые наборы,где овощные смеси, ?в холо...</td>\n",
       "      <td>2.0</td>\n",
       "      <td>2022-07-15</td>\n",
       "      <td>текст про персонал магазина</td>\n",
       "    </tr>\n",
       "    <tr>\n",
       "      <th>4</th>\n",
       "      <td>Дикси</td>\n",
       "      <td>Супермаркет</td>\n",
       "      <td>Чайковского, 55</td>\n",
       "      <td>Литейный</td>\n",
       "      <td>«3» только после того, как стал свидетелем диа...</td>\n",
       "      <td>3.0</td>\n",
       "      <td>2022-05-21</td>\n",
       "      <td>текст про персонал магазина</td>\n",
       "    </tr>\n",
       "  </tbody>\n",
       "</table>\n",
       "</div>"
      ],
      "text/plain": [
       "  store_name   store_type             store_address store_district  \\\n",
       "0      Дикси  Супермаркет  Суворовский проспект, 36   Смольнинское   \n",
       "1      Дикси  Супермаркет  Суворовский проспект, 36   Смольнинское   \n",
       "2  Пятерочка  Супермаркет   Лиговский проспект, 107   Владимирский   \n",
       "3      Дикси  Супермаркет     Большая Московская, 5   Владимирский   \n",
       "4      Дикси  Супермаркет           Чайковского, 55       Литейный   \n",
       "\n",
       "                                                text  stars        date  \\\n",
       "0  \"Дикси\", как \"Дикси\" Постоянно нужно следить, ...    3.0  2023-03-22   \n",
       "1  \"Дикси\", как \"Дикси\" Постоянно нужно следить, ...    3.0  2023-03-22   \n",
       "2        \"Пятёрочка\" выручает, вернее и не скажешь:)    5.0  2023-05-10   \n",
       "3  ,где суповые наборы,где овощные смеси, ?в холо...    2.0  2022-07-15   \n",
       "4  «3» только после того, как стал свидетелем диа...    3.0  2022-05-21   \n",
       "\n",
       "                     Parameter  \n",
       "0   текст про качество товаров  \n",
       "1   текст про качество товаров  \n",
       "2   текст про чистоту магазина  \n",
       "3  текст про персонал магазина  \n",
       "4  текст про персонал магазина  "
      ]
     },
     "execution_count": 19,
     "metadata": {},
     "output_type": "execute_result"
    }
   ],
   "source": [
    "data.head()"
   ]
  },
  {
   "cell_type": "code",
   "execution_count": 22,
   "id": "5741cc3f",
   "metadata": {},
   "outputs": [],
   "source": [
    "data.to_csv('../data/all_reviews_parameter.csv',\n",
    "            index=False)"
   ]
  },
  {
   "cell_type": "code",
   "execution_count": null,
   "id": "bc0109d0",
   "metadata": {},
   "outputs": [],
   "source": []
  }
 ],
 "metadata": {
  "kernelspec": {
   "display_name": "Python 3 (ipykernel)",
   "language": "python",
   "name": "python3"
  },
  "language_info": {
   "codemirror_mode": {
    "name": "ipython",
    "version": 3
   },
   "file_extension": ".py",
   "mimetype": "text/x-python",
   "name": "python",
   "nbconvert_exporter": "python",
   "pygments_lexer": "ipython3",
   "version": "3.9.16"
  }
 },
 "nbformat": 4,
 "nbformat_minor": 5
}
