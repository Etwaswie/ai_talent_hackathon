{
 "cells": [
  {
   "cell_type": "markdown",
   "id": "b23abdda",
   "metadata": {},
   "source": [
    "# Импорт библиотек"
   ]
  },
  {
   "cell_type": "code",
   "execution_count": 1,
   "id": "4c31c590",
   "metadata": {},
   "outputs": [],
   "source": [
    "import pandas as pd\n",
    "import numpy as np\n",
    "\n",
    "from transformers import AutoTokenizer, AutoModelForSequenceClassification\n",
    "import torch, string, random"
   ]
  },
  {
   "cell_type": "markdown",
   "id": "3af5479e",
   "metadata": {},
   "source": [
    "# Конфигурация"
   ]
  },
  {
   "cell_type": "code",
   "execution_count": 2,
   "id": "8b8ee61d",
   "metadata": {},
   "outputs": [],
   "source": [
    "RANDOM_SEED = 42\n",
    "random.seed(RANDOM_SEED)\n",
    "np.random.seed(RANDOM_SEED)\n",
    "torch.manual_seed(RANDOM_SEED)\n",
    "torch.random.manual_seed(RANDOM_SEED)\n",
    "torch.cuda.random.manual_seed_all(RANDOM_SEED)\n",
    "device = torch.device('cuda') if torch.cuda.is_available() else torch.device('cpu')"
   ]
  },
  {
   "cell_type": "code",
   "execution_count": 3,
   "id": "de845577",
   "metadata": {},
   "outputs": [
    {
     "data": {
      "text/plain": [
       "device(type='cuda')"
      ]
     },
     "execution_count": 3,
     "metadata": {},
     "output_type": "execute_result"
    }
   ],
   "source": [
    "device"
   ]
  },
  {
   "cell_type": "markdown",
   "id": "7257ad8a",
   "metadata": {},
   "source": [
    "# Загрузка данных"
   ]
  },
  {
   "cell_type": "code",
   "execution_count": 4,
   "id": "4f151fc1",
   "metadata": {},
   "outputs": [],
   "source": [
    "data = pd.read_csv('../../data-parsing/parser-otzovik/reviews.csv')"
   ]
  },
  {
   "cell_type": "code",
   "execution_count": 5,
   "id": "aac2d675",
   "metadata": {},
   "outputs": [
    {
     "data": {
      "text/html": [
       "<div>\n",
       "<style scoped>\n",
       "    .dataframe tbody tr th:only-of-type {\n",
       "        vertical-align: middle;\n",
       "    }\n",
       "\n",
       "    .dataframe tbody tr th {\n",
       "        vertical-align: top;\n",
       "    }\n",
       "\n",
       "    .dataframe thead th {\n",
       "        text-align: right;\n",
       "    }\n",
       "</style>\n",
       "<table border=\"1\" class=\"dataframe\">\n",
       "  <thead>\n",
       "    <tr style=\"text-align: right;\">\n",
       "      <th></th>\n",
       "      <th>Name_of_review</th>\n",
       "      <th>Date</th>\n",
       "      <th>Advantages</th>\n",
       "      <th>Disadvantages</th>\n",
       "      <th>Main_text</th>\n",
       "      <th>Overall_assessment</th>\n",
       "      <th>Assortment</th>\n",
       "      <th>Prices</th>\n",
       "      <th>Delivery</th>\n",
       "      <th>Availability</th>\n",
       "      <th>Service</th>\n",
       "      <th>isRecommended</th>\n",
       "    </tr>\n",
       "  </thead>\n",
       "  <tbody>\n",
       "    <tr>\n",
       "      <th>0</th>\n",
       "      <td>недорогой магазин рядом с домом</td>\n",
       "      <td>18.08.2010</td>\n",
       "      <td>дёшево, удобно</td>\n",
       "      <td>не большой ассортимент</td>\n",
       "      <td>С удовольствием посещаю магазин эконом класса ...</td>\n",
       "      <td>4</td>\n",
       "      <td>4</td>\n",
       "      <td>4</td>\n",
       "      <td>4</td>\n",
       "      <td>5</td>\n",
       "      <td>3</td>\n",
       "      <td>1</td>\n",
       "    </tr>\n",
       "    <tr>\n",
       "      <th>1</th>\n",
       "      <td>Закупаемся в Пятерочке</td>\n",
       "      <td>19.08.2010</td>\n",
       "      <td>цены, выбор, акции</td>\n",
       "      <td>даже не знаю, все-таки не один магазин</td>\n",
       "      <td>Раз в неделю, а может чаще (когда как) мы отпр...</td>\n",
       "      <td>5</td>\n",
       "      <td>3</td>\n",
       "      <td>4</td>\n",
       "      <td>3</td>\n",
       "      <td>5</td>\n",
       "      <td>3</td>\n",
       "      <td>1</td>\n",
       "    </tr>\n",
       "    <tr>\n",
       "      <th>2</th>\n",
       "      <td>Хочу поделиться своим горьким опытом работы в ...</td>\n",
       "      <td>20.08.2010</td>\n",
       "      <td>близко</td>\n",
       "      <td>низкая зп, обман, штрафы, неуважение</td>\n",
       "      <td>Довелось как-то мне однажды от безвыходности у...</td>\n",
       "      <td>1</td>\n",
       "      <td>3</td>\n",
       "      <td>4</td>\n",
       "      <td>1</td>\n",
       "      <td>3</td>\n",
       "      <td>1</td>\n",
       "      <td>0</td>\n",
       "    </tr>\n",
       "    <tr>\n",
       "      <th>3</th>\n",
       "      <td>Ужасный магазин, ужасное обслуживание</td>\n",
       "      <td>16.09.2010</td>\n",
       "      <td>не нашла</td>\n",
       "      <td>просроченные продукты, невоспитанный персонал,...</td>\n",
       "      <td>В магазин \"Пятерочка\" зареклась ходить за поку...</td>\n",
       "      <td>1</td>\n",
       "      <td>3</td>\n",
       "      <td>3</td>\n",
       "      <td>3</td>\n",
       "      <td>3</td>\n",
       "      <td>1</td>\n",
       "      <td>0</td>\n",
       "    </tr>\n",
       "    <tr>\n",
       "      <th>4</th>\n",
       "      <td>Больше не зайду!</td>\n",
       "      <td>27.09.2010</td>\n",
       "      <td>не обнаружено;</td>\n",
       "      <td>сплошные минусы</td>\n",
       "      <td>Побывала я как то в магазине эконом-класса \"Пя...</td>\n",
       "      <td>1</td>\n",
       "      <td>1</td>\n",
       "      <td>1</td>\n",
       "      <td>1</td>\n",
       "      <td>1</td>\n",
       "      <td>1</td>\n",
       "      <td>0</td>\n",
       "    </tr>\n",
       "  </tbody>\n",
       "</table>\n",
       "</div>"
      ],
      "text/plain": [
       "                                      Name_of_review        Date  \\\n",
       "0                    недорогой магазин рядом с домом  18.08.2010   \n",
       "1                             Закупаемся в Пятерочке  19.08.2010   \n",
       "2  Хочу поделиться своим горьким опытом работы в ...  20.08.2010   \n",
       "3              Ужасный магазин, ужасное обслуживание  16.09.2010   \n",
       "4                                   Больше не зайду!  27.09.2010   \n",
       "\n",
       "           Advantages                                      Disadvantages  \\\n",
       "0      дёшево, удобно                             не большой ассортимент   \n",
       "1  цены, выбор, акции             даже не знаю, все-таки не один магазин   \n",
       "2              близко               низкая зп, обман, штрафы, неуважение   \n",
       "3            не нашла  просроченные продукты, невоспитанный персонал,...   \n",
       "4      не обнаружено;                                    сплошные минусы   \n",
       "\n",
       "                                           Main_text  Overall_assessment  \\\n",
       "0  С удовольствием посещаю магазин эконом класса ...                   4   \n",
       "1  Раз в неделю, а может чаще (когда как) мы отпр...                   5   \n",
       "2  Довелось как-то мне однажды от безвыходности у...                   1   \n",
       "3  В магазин \"Пятерочка\" зареклась ходить за поку...                   1   \n",
       "4  Побывала я как то в магазине эконом-класса \"Пя...                   1   \n",
       "\n",
       "   Assortment  Prices  Delivery  Availability  Service  isRecommended  \n",
       "0           4       4         4             5        3              1  \n",
       "1           3       4         3             5        3              1  \n",
       "2           3       4         1             3        1              0  \n",
       "3           3       3         3             3        1              0  \n",
       "4           1       1         1             1        1              0  "
      ]
     },
     "execution_count": 5,
     "metadata": {},
     "output_type": "execute_result"
    }
   ],
   "source": [
    "data.head()"
   ]
  },
  {
   "cell_type": "markdown",
   "id": "5b7cca44",
   "metadata": {},
   "source": [
    "# Загрузка модели"
   ]
  },
  {
   "cell_type": "code",
   "execution_count": 6,
   "id": "89256a57",
   "metadata": {},
   "outputs": [],
   "source": [
    "tokenizer = AutoTokenizer.from_pretrained(\"DAMO-NLP-SG/zero-shot-classify-SSTuning-XLM-R\")\n",
    "model = AutoModelForSequenceClassification.from_pretrained(\"DAMO-NLP-SG/zero-shot-classify-SSTuning-XLM-R\")\n",
    "# problem_type = \"single_label_classification\""
   ]
  },
  {
   "cell_type": "code",
   "execution_count": 19,
   "id": "b9a6fff3",
   "metadata": {},
   "outputs": [],
   "source": [
    "text = \"\"\"\"\"Дикси\", как \"Дикси\" Постоянно нужно следить, чтобы товары на полке соответствовали ценникам, хамоватый восточного вида управляющий.. Ну и кассир бабуля, которую покупатели, откроненно раздражают.. Правда,буду честным есть несколько нормальных кассиров и рыжеволосая менеджер хорошая:)\"\"\"\n",
    "\n",
    "list_label = [\"персонал магазина\",\n",
    "              \"цены товаров\",\n",
    "              \"ассортимент товаров\",\n",
    "              \"качество товаров\",\n",
    "              \"чистота в магазине\",\n",
    "              \"расположение магазина\"]\n",
    "\n",
    "# list_label = [\"хороший персонал магазина\", \"плохой персонал магазина\",\n",
    "#               \"высокие цены товаров\", \"низкие цены товаров\",\n",
    "#               \"широкий ассортимент товаров\", \"скудный ассортимент товаров\",\n",
    "#               \"высокое качество товаров\", \"низкое качество товаров\",\n",
    "#               \"высокая чистота магазина\", \"низкая чистота магазина\",\n",
    "#               \"удобное расположение магазина\", \"неудобное расположение магазина\"]\n",
    "\n",
    "# list_label = [\"грязный магазин\",\"чистый магазин\"]"
   ]
  },
  {
   "cell_type": "code",
   "execution_count": 20,
   "id": "b309fb82",
   "metadata": {},
   "outputs": [],
   "source": [
    "list_ABC = [x for x in string.ascii_uppercase]"
   ]
  },
  {
   "cell_type": "code",
   "execution_count": 21,
   "id": "4b4f5d3f",
   "metadata": {},
   "outputs": [],
   "source": [
    "def check_text(model, text, list_label, shuffle=False):\n",
    "    list_label = [x+'.' if x[-1] != '.' else x for x in list_label]\n",
    "    list_label_new = list_label + [tokenizer.pad_token]* (20 - len(list_label))\n",
    "    if shuffle: \n",
    "        random.shuffle(list_label_new)\n",
    "    s_option = ' '.join(['('+list_ABC[i]+') '+list_label_new[i] for i in range(len(list_label_new))])\n",
    "    text = f'{s_option} {tokenizer.sep_token} {text}'\n",
    "\n",
    "    model.to(device).eval()\n",
    "    encoding = tokenizer([text],truncation=True, max_length=512,return_tensors='pt')\n",
    "    item = {key: val.to(device) for key, val in encoding.items()}\n",
    "    logits = model(**item).logits\n",
    "\n",
    "    logits = logits if shuffle else logits[:,0:len(list_label)]\n",
    "    probs = torch.nn.functional.softmax(logits, dim = -1).tolist()\n",
    "#     predictions = torch.argmax(logits, dim=-1).item()\n",
    "    predictions = torch.IntTensor(np.arange(len(list_label)))\n",
    "    probabilities = [round(x,5) for x in probs[0]]\n",
    "    \n",
    "    new_probabilities, new_list_label = zip(*[(b, a) for b, a in sorted(zip(probabilities, list_label))])\n",
    "    for i in range(len(new_list_label)-1,-1,-1):\n",
    "        print(new_list_label[i][:-1], ' - ', round(new_probabilities[i],2))\n",
    "\n",
    "#     print(f'prediction:    {predictions} => ({list_ABC[predictions]}) {list_label_new[predictions]}')\n",
    "#     print(f'probability:   {round(probabilities[predictions]*100,2)}%')"
   ]
  },
  {
   "cell_type": "code",
   "execution_count": 22,
   "id": "f05a73c3",
   "metadata": {},
   "outputs": [
    {
     "name": "stdout",
     "output_type": "stream",
     "text": [
      "персонал магазина  -  0.34\n",
      "чистота в магазине  -  0.31\n",
      "качество товаров  -  0.11\n",
      "цены товаров  -  0.1\n",
      "расположение магазина  -  0.1\n",
      "ассортимент товаров  -  0.04\n",
      "CPU times: total: 62.5 ms\n",
      "Wall time: 90.5 ms\n"
     ]
    }
   ],
   "source": [
    "%%time\n",
    "check_text(model, text, list_label)"
   ]
  },
  {
   "cell_type": "code",
   "execution_count": 5,
   "id": "bd4a69d5",
   "metadata": {},
   "outputs": [
    {
     "name": "stdout",
     "output_type": "stream",
     "text": [
      "Thu Sep  7 16:58:11 2023       \n",
      "+-----------------------------------------------------------------------------+\n",
      "| NVIDIA-SMI 527.56       Driver Version: 527.56       CUDA Version: 12.0     |\n",
      "|-------------------------------+----------------------+----------------------+\n",
      "| GPU  Name            TCC/WDDM | Bus-Id        Disp.A | Volatile Uncorr. ECC |\n",
      "| Fan  Temp  Perf  Pwr:Usage/Cap|         Memory-Usage | GPU-Util  Compute M. |\n",
      "|                               |                      |               MIG M. |\n",
      "|===============================+======================+======================|\n",
      "|   0  NVIDIA GeForce ... WDDM  | 00000000:01:00.0 Off |                  N/A |\n",
      "| N/A   65C    P0    57W / 115W |   1892MiB /  8192MiB |     39%      Default |\n",
      "|                               |                      |                  N/A |\n",
      "+-------------------------------+----------------------+----------------------+\n",
      "                                                                               \n",
      "+-----------------------------------------------------------------------------+\n",
      "| Processes:                                                                  |\n",
      "|  GPU   GI   CI        PID   Type   Process name                  GPU Memory |\n",
      "|        ID   ID                                                   Usage      |\n",
      "|=============================================================================|\n",
      "|    0   N/A  N/A     28152      C   ...conda\\envs\\NIR\\python.exe    N/A      |\n",
      "+-----------------------------------------------------------------------------+\n"
     ]
    }
   ],
   "source": [
    "!nvidia-smi"
   ]
  },
  {
   "cell_type": "code",
   "execution_count": null,
   "id": "5125bab6",
   "metadata": {},
   "outputs": [],
   "source": []
  }
 ],
 "metadata": {
  "kernelspec": {
   "display_name": "Python 3 (ipykernel)",
   "language": "python",
   "name": "python3"
  },
  "language_info": {
   "codemirror_mode": {
    "name": "ipython",
    "version": 3
   },
   "file_extension": ".py",
   "mimetype": "text/x-python",
   "name": "python",
   "nbconvert_exporter": "python",
   "pygments_lexer": "ipython3",
   "version": "3.9.16"
  }
 },
 "nbformat": 4,
 "nbformat_minor": 5
}
