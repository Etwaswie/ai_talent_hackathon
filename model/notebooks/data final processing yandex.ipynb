{
 "cells": [
  {
   "cell_type": "markdown",
   "id": "761637c0",
   "metadata": {},
   "source": [
    "# Импорт библиотек"
   ]
  },
  {
   "cell_type": "code",
   "execution_count": 1,
   "id": "a3be6ad7",
   "metadata": {},
   "outputs": [],
   "source": [
    "import pandas as pd\n",
    "import numpy as np"
   ]
  },
  {
   "cell_type": "markdown",
   "id": "b7d69f6a",
   "metadata": {},
   "source": [
    "# Загрузка данных"
   ]
  },
  {
   "cell_type": "code",
   "execution_count": 2,
   "id": "6301afe5",
   "metadata": {},
   "outputs": [],
   "source": [
    "data = pd.read_csv('../data/all_reviews_sentiment.csv')"
   ]
  },
  {
   "cell_type": "code",
   "execution_count": 3,
   "id": "1c582be7",
   "metadata": {},
   "outputs": [
    {
     "data": {
      "text/html": [
       "<div>\n",
       "<style scoped>\n",
       "    .dataframe tbody tr th:only-of-type {\n",
       "        vertical-align: middle;\n",
       "    }\n",
       "\n",
       "    .dataframe tbody tr th {\n",
       "        vertical-align: top;\n",
       "    }\n",
       "\n",
       "    .dataframe thead th {\n",
       "        text-align: right;\n",
       "    }\n",
       "</style>\n",
       "<table border=\"1\" class=\"dataframe\">\n",
       "  <thead>\n",
       "    <tr style=\"text-align: right;\">\n",
       "      <th></th>\n",
       "      <th>store_name</th>\n",
       "      <th>store_type</th>\n",
       "      <th>store_address</th>\n",
       "      <th>store_district</th>\n",
       "      <th>text</th>\n",
       "      <th>stars</th>\n",
       "      <th>date</th>\n",
       "      <th>Parameter</th>\n",
       "      <th>Sentiment</th>\n",
       "    </tr>\n",
       "  </thead>\n",
       "  <tbody>\n",
       "    <tr>\n",
       "      <th>0</th>\n",
       "      <td>Дикси</td>\n",
       "      <td>Супермаркет</td>\n",
       "      <td>Суворовский проспект, 36</td>\n",
       "      <td>Смольнинское</td>\n",
       "      <td>\"Дикси\", как \"Дикси\" Постоянно нужно следить, ...</td>\n",
       "      <td>3.0</td>\n",
       "      <td>2023-03-22</td>\n",
       "      <td>текст про качество товаров</td>\n",
       "      <td>1</td>\n",
       "    </tr>\n",
       "    <tr>\n",
       "      <th>1</th>\n",
       "      <td>Дикси</td>\n",
       "      <td>Супермаркет</td>\n",
       "      <td>Суворовский проспект, 36</td>\n",
       "      <td>Смольнинское</td>\n",
       "      <td>\"Дикси\", как \"Дикси\" Постоянно нужно следить, ...</td>\n",
       "      <td>3.0</td>\n",
       "      <td>2023-03-22</td>\n",
       "      <td>текст про качество товаров</td>\n",
       "      <td>1</td>\n",
       "    </tr>\n",
       "    <tr>\n",
       "      <th>2</th>\n",
       "      <td>Пятерочка</td>\n",
       "      <td>Супермаркет</td>\n",
       "      <td>Лиговский проспект, 107</td>\n",
       "      <td>Владимирский</td>\n",
       "      <td>\"Пятёрочка\" выручает, вернее и не скажешь:)</td>\n",
       "      <td>5.0</td>\n",
       "      <td>2023-05-10</td>\n",
       "      <td>текст про чистоту магазина</td>\n",
       "      <td>1</td>\n",
       "    </tr>\n",
       "    <tr>\n",
       "      <th>3</th>\n",
       "      <td>Дикси</td>\n",
       "      <td>Супермаркет</td>\n",
       "      <td>Большая Московская, 5</td>\n",
       "      <td>Владимирский</td>\n",
       "      <td>,где суповые наборы,где овощные смеси, ?в холо...</td>\n",
       "      <td>2.0</td>\n",
       "      <td>2022-07-15</td>\n",
       "      <td>текст про персонал магазина</td>\n",
       "      <td>1</td>\n",
       "    </tr>\n",
       "    <tr>\n",
       "      <th>4</th>\n",
       "      <td>Дикси</td>\n",
       "      <td>Супермаркет</td>\n",
       "      <td>Чайковского, 55</td>\n",
       "      <td>Литейный</td>\n",
       "      <td>«3» только после того, как стал свидетелем диа...</td>\n",
       "      <td>3.0</td>\n",
       "      <td>2022-05-21</td>\n",
       "      <td>текст про персонал магазина</td>\n",
       "      <td>-1</td>\n",
       "    </tr>\n",
       "  </tbody>\n",
       "</table>\n",
       "</div>"
      ],
      "text/plain": [
       "  store_name   store_type             store_address store_district  \\\n",
       "0      Дикси  Супермаркет  Суворовский проспект, 36   Смольнинское   \n",
       "1      Дикси  Супермаркет  Суворовский проспект, 36   Смольнинское   \n",
       "2  Пятерочка  Супермаркет   Лиговский проспект, 107   Владимирский   \n",
       "3      Дикси  Супермаркет     Большая Московская, 5   Владимирский   \n",
       "4      Дикси  Супермаркет           Чайковского, 55       Литейный   \n",
       "\n",
       "                                                text  stars        date  \\\n",
       "0  \"Дикси\", как \"Дикси\" Постоянно нужно следить, ...    3.0  2023-03-22   \n",
       "1  \"Дикси\", как \"Дикси\" Постоянно нужно следить, ...    3.0  2023-03-22   \n",
       "2        \"Пятёрочка\" выручает, вернее и не скажешь:)    5.0  2023-05-10   \n",
       "3  ,где суповые наборы,где овощные смеси, ?в холо...    2.0  2022-07-15   \n",
       "4  «3» только после того, как стал свидетелем диа...    3.0  2022-05-21   \n",
       "\n",
       "                     Parameter  Sentiment  \n",
       "0   текст про качество товаров          1  \n",
       "1   текст про качество товаров          1  \n",
       "2   текст про чистоту магазина          1  \n",
       "3  текст про персонал магазина          1  \n",
       "4  текст про персонал магазина         -1  "
      ]
     },
     "execution_count": 3,
     "metadata": {},
     "output_type": "execute_result"
    }
   ],
   "source": [
    "data.head()"
   ]
  },
  {
   "cell_type": "code",
   "execution_count": 4,
   "id": "1dc17d74",
   "metadata": {},
   "outputs": [
    {
     "name": "stdout",
     "output_type": "stream",
     "text": [
      "<class 'pandas.core.frame.DataFrame'>\n",
      "RangeIndex: 5576 entries, 0 to 5575\n",
      "Data columns (total 9 columns):\n",
      " #   Column          Non-Null Count  Dtype  \n",
      "---  ------          --------------  -----  \n",
      " 0   store_name      5576 non-null   object \n",
      " 1   store_type      5576 non-null   object \n",
      " 2   store_address   5576 non-null   object \n",
      " 3   store_district  5576 non-null   object \n",
      " 4   text            5576 non-null   object \n",
      " 5   stars           5574 non-null   float64\n",
      " 6   date            5576 non-null   object \n",
      " 7   Parameter       5576 non-null   object \n",
      " 8   Sentiment       5576 non-null   int64  \n",
      "dtypes: float64(1), int64(1), object(7)\n",
      "memory usage: 392.2+ KB\n"
     ]
    }
   ],
   "source": [
    "data.info()"
   ]
  },
  {
   "cell_type": "code",
   "execution_count": 5,
   "id": "b4e9a778",
   "metadata": {},
   "outputs": [
    {
     "data": {
      "text/plain": [
       "5576"
      ]
     },
     "execution_count": 5,
     "metadata": {},
     "output_type": "execute_result"
    }
   ],
   "source": [
    "len(data)"
   ]
  },
  {
   "cell_type": "markdown",
   "id": "dcb5ad78",
   "metadata": {},
   "source": [
    "# Обработка"
   ]
  },
  {
   "cell_type": "code",
   "execution_count": 6,
   "id": "f375dba1",
   "metadata": {},
   "outputs": [],
   "source": [
    "data = pd.concat((data,\n",
    "                  data.pivot_table(index=data.index,\n",
    "                                   columns='Parameter',\n",
    "                                   values='Sentiment',\n",
    "                                   fill_value=0)[['текст про персонал магазина',\n",
    "                                                  'текст про цены товаров',\n",
    "                                                  'текст про ассортимент товаров',\n",
    "                                                  'текст про качество товаров',\n",
    "                                                  'текст про чистоту магазина',\n",
    "                                                  'текст про расположение магазина']]),\n",
    "                 axis=1).copy()"
   ]
  },
  {
   "cell_type": "code",
   "execution_count": 7,
   "id": "d81a8a04",
   "metadata": {},
   "outputs": [],
   "source": [
    "data.rename(columns={'текст про персонал магазина': 'service',\n",
    "                     'текст про цены товаров': 'prices',\n",
    "                     'текст про ассортимент товаров': 'assortment',\n",
    "                     'текст про качество товаров': 'quality',\n",
    "                     'текст про чистоту магазина': 'cleanliness',\n",
    "                     'текст про расположение магазина': 'location'},\n",
    "            inplace=True)"
   ]
  },
  {
   "cell_type": "code",
   "execution_count": 8,
   "id": "9966b449",
   "metadata": {},
   "outputs": [],
   "source": [
    "data.drop(columns=['Parameter', 'Sentiment'],\n",
    "          inplace=True)"
   ]
  },
  {
   "cell_type": "code",
   "execution_count": 9,
   "id": "f7532f89",
   "metadata": {},
   "outputs": [
    {
     "data": {
      "text/html": [
       "<div>\n",
       "<style scoped>\n",
       "    .dataframe tbody tr th:only-of-type {\n",
       "        vertical-align: middle;\n",
       "    }\n",
       "\n",
       "    .dataframe tbody tr th {\n",
       "        vertical-align: top;\n",
       "    }\n",
       "\n",
       "    .dataframe thead th {\n",
       "        text-align: right;\n",
       "    }\n",
       "</style>\n",
       "<table border=\"1\" class=\"dataframe\">\n",
       "  <thead>\n",
       "    <tr style=\"text-align: right;\">\n",
       "      <th></th>\n",
       "      <th>store_name</th>\n",
       "      <th>store_type</th>\n",
       "      <th>store_address</th>\n",
       "      <th>store_district</th>\n",
       "      <th>text</th>\n",
       "      <th>stars</th>\n",
       "      <th>date</th>\n",
       "      <th>service</th>\n",
       "      <th>prices</th>\n",
       "      <th>assortment</th>\n",
       "      <th>quality</th>\n",
       "      <th>cleanliness</th>\n",
       "      <th>location</th>\n",
       "    </tr>\n",
       "  </thead>\n",
       "  <tbody>\n",
       "    <tr>\n",
       "      <th>0</th>\n",
       "      <td>Дикси</td>\n",
       "      <td>Супермаркет</td>\n",
       "      <td>Суворовский проспект, 36</td>\n",
       "      <td>Смольнинское</td>\n",
       "      <td>\"Дикси\", как \"Дикси\" Постоянно нужно следить, ...</td>\n",
       "      <td>3.0</td>\n",
       "      <td>2023-03-22</td>\n",
       "      <td>0</td>\n",
       "      <td>0</td>\n",
       "      <td>0</td>\n",
       "      <td>1</td>\n",
       "      <td>0</td>\n",
       "      <td>0</td>\n",
       "    </tr>\n",
       "    <tr>\n",
       "      <th>1</th>\n",
       "      <td>Дикси</td>\n",
       "      <td>Супермаркет</td>\n",
       "      <td>Суворовский проспект, 36</td>\n",
       "      <td>Смольнинское</td>\n",
       "      <td>\"Дикси\", как \"Дикси\" Постоянно нужно следить, ...</td>\n",
       "      <td>3.0</td>\n",
       "      <td>2023-03-22</td>\n",
       "      <td>0</td>\n",
       "      <td>0</td>\n",
       "      <td>0</td>\n",
       "      <td>1</td>\n",
       "      <td>0</td>\n",
       "      <td>0</td>\n",
       "    </tr>\n",
       "    <tr>\n",
       "      <th>2</th>\n",
       "      <td>Пятерочка</td>\n",
       "      <td>Супермаркет</td>\n",
       "      <td>Лиговский проспект, 107</td>\n",
       "      <td>Владимирский</td>\n",
       "      <td>\"Пятёрочка\" выручает, вернее и не скажешь:)</td>\n",
       "      <td>5.0</td>\n",
       "      <td>2023-05-10</td>\n",
       "      <td>0</td>\n",
       "      <td>0</td>\n",
       "      <td>0</td>\n",
       "      <td>0</td>\n",
       "      <td>1</td>\n",
       "      <td>0</td>\n",
       "    </tr>\n",
       "    <tr>\n",
       "      <th>3</th>\n",
       "      <td>Дикси</td>\n",
       "      <td>Супермаркет</td>\n",
       "      <td>Большая Московская, 5</td>\n",
       "      <td>Владимирский</td>\n",
       "      <td>,где суповые наборы,где овощные смеси, ?в холо...</td>\n",
       "      <td>2.0</td>\n",
       "      <td>2022-07-15</td>\n",
       "      <td>1</td>\n",
       "      <td>0</td>\n",
       "      <td>0</td>\n",
       "      <td>0</td>\n",
       "      <td>0</td>\n",
       "      <td>0</td>\n",
       "    </tr>\n",
       "    <tr>\n",
       "      <th>4</th>\n",
       "      <td>Дикси</td>\n",
       "      <td>Супермаркет</td>\n",
       "      <td>Чайковского, 55</td>\n",
       "      <td>Литейный</td>\n",
       "      <td>«3» только после того, как стал свидетелем диа...</td>\n",
       "      <td>3.0</td>\n",
       "      <td>2022-05-21</td>\n",
       "      <td>-1</td>\n",
       "      <td>0</td>\n",
       "      <td>0</td>\n",
       "      <td>0</td>\n",
       "      <td>0</td>\n",
       "      <td>0</td>\n",
       "    </tr>\n",
       "  </tbody>\n",
       "</table>\n",
       "</div>"
      ],
      "text/plain": [
       "  store_name   store_type             store_address store_district  \\\n",
       "0      Дикси  Супермаркет  Суворовский проспект, 36   Смольнинское   \n",
       "1      Дикси  Супермаркет  Суворовский проспект, 36   Смольнинское   \n",
       "2  Пятерочка  Супермаркет   Лиговский проспект, 107   Владимирский   \n",
       "3      Дикси  Супермаркет     Большая Московская, 5   Владимирский   \n",
       "4      Дикси  Супермаркет           Чайковского, 55       Литейный   \n",
       "\n",
       "                                                text  stars        date  \\\n",
       "0  \"Дикси\", как \"Дикси\" Постоянно нужно следить, ...    3.0  2023-03-22   \n",
       "1  \"Дикси\", как \"Дикси\" Постоянно нужно следить, ...    3.0  2023-03-22   \n",
       "2        \"Пятёрочка\" выручает, вернее и не скажешь:)    5.0  2023-05-10   \n",
       "3  ,где суповые наборы,где овощные смеси, ?в холо...    2.0  2022-07-15   \n",
       "4  «3» только после того, как стал свидетелем диа...    3.0  2022-05-21   \n",
       "\n",
       "   service  prices  assortment  quality  cleanliness  location  \n",
       "0        0       0           0        1            0         0  \n",
       "1        0       0           0        1            0         0  \n",
       "2        0       0           0        0            1         0  \n",
       "3        1       0           0        0            0         0  \n",
       "4       -1       0           0        0            0         0  "
      ]
     },
     "execution_count": 9,
     "metadata": {},
     "output_type": "execute_result"
    }
   ],
   "source": [
    "data.head()"
   ]
  },
  {
   "cell_type": "code",
   "execution_count": 10,
   "id": "68a70239",
   "metadata": {},
   "outputs": [],
   "source": [
    "data.to_csv('../data/all_reviews_manual.csv',\n",
    "            index=False)"
   ]
  },
  {
   "cell_type": "code",
   "execution_count": 11,
   "id": "2821571b",
   "metadata": {},
   "outputs": [
    {
     "data": {
      "text/plain": [
       "'Все хорошо. Только болезнь каждого диски ценники зачастую неактуальные'"
      ]
     },
     "execution_count": 11,
     "metadata": {},
     "output_type": "execute_result"
    }
   ],
   "source": [
    "data.iloc[710]['text']"
   ]
  },
  {
   "cell_type": "code",
   "execution_count": 12,
   "id": "bc32b2f2",
   "metadata": {},
   "outputs": [
    {
     "data": {
      "text/plain": [
       "service         0\n",
       "prices         -1\n",
       "assortment      0\n",
       "quality         0\n",
       "cleanliness     0\n",
       "location        0\n",
       "Name: 710, dtype: object"
      ]
     },
     "execution_count": 12,
     "metadata": {},
     "output_type": "execute_result"
    }
   ],
   "source": [
    "data.iloc[710][['service','prices','assortment','quality','cleanliness','location']]"
   ]
  },
  {
   "cell_type": "code",
   "execution_count": null,
   "id": "24149238",
   "metadata": {},
   "outputs": [],
   "source": []
  }
 ],
 "metadata": {
  "kernelspec": {
   "display_name": "Python 3 (ipykernel)",
   "language": "python",
   "name": "python3"
  },
  "language_info": {
   "codemirror_mode": {
    "name": "ipython",
    "version": 3
   },
   "file_extension": ".py",
   "mimetype": "text/x-python",
   "name": "python",
   "nbconvert_exporter": "python",
   "pygments_lexer": "ipython3",
   "version": "3.9.16"
  }
 },
 "nbformat": 4,
 "nbformat_minor": 5
}
